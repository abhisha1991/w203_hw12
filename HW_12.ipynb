{
 "cells": [
  {
   "cell_type": "markdown",
   "metadata": {},
   "source": [
    "# W203 Homework 12 "
   ]
  },
  {
   "cell_type": "markdown",
   "metadata": {},
   "source": [
    "### Submission by Abhi Sharma (abhisha@berkeley.edu)"
   ]
  },
  {
   "cell_type": "code",
   "execution_count": 1,
   "metadata": {},
   "outputs": [
    {
     "name": "stdout",
     "output_type": "stream",
     "text": [
      "package 'dplyr' successfully unpacked and MD5 sums checked\n",
      "\n",
      "The downloaded binary packages are in\n",
      "\tC:\\Users\\abhisha.REDMOND\\AppData\\Local\\Temp\\RtmpMfJk8p\\downloaded_packages\n"
     ]
    },
    {
     "name": "stderr",
     "output_type": "stream",
     "text": [
      "Warning message:\n",
      "\"package 'dplyr' was built under R version 3.6.3\"\n",
      "Attaching package: 'dplyr'\n",
      "\n",
      "The following objects are masked from 'package:stats':\n",
      "\n",
      "    filter, lag\n",
      "\n",
      "The following objects are masked from 'package:base':\n",
      "\n",
      "    intersect, setdiff, setequal, union\n",
      "\n"
     ]
    },
    {
     "name": "stdout",
     "output_type": "stream",
     "text": [
      "package 'car' successfully unpacked and MD5 sums checked\n",
      "\n",
      "The downloaded binary packages are in\n",
      "\tC:\\Users\\abhisha.REDMOND\\AppData\\Local\\Temp\\RtmpMfJk8p\\downloaded_packages\n"
     ]
    },
    {
     "name": "stderr",
     "output_type": "stream",
     "text": [
      "Warning message:\n",
      "\"package 'car' was built under R version 3.6.3\"Loading required package: carData\n",
      "\n",
      "Attaching package: 'car'\n",
      "\n",
      "The following object is masked from 'package:dplyr':\n",
      "\n",
      "    recode\n",
      "\n"
     ]
    },
    {
     "name": "stdout",
     "output_type": "stream",
     "text": [
      "package 'lmtest' successfully unpacked and MD5 sums checked\n",
      "\n",
      "The downloaded binary packages are in\n",
      "\tC:\\Users\\abhisha.REDMOND\\AppData\\Local\\Temp\\RtmpMfJk8p\\downloaded_packages\n"
     ]
    },
    {
     "name": "stderr",
     "output_type": "stream",
     "text": [
      "Warning message:\n",
      "\"package 'lmtest' was built under R version 3.6.3\"Loading required package: zoo\n",
      "\n",
      "Attaching package: 'zoo'\n",
      "\n",
      "The following objects are masked from 'package:base':\n",
      "\n",
      "    as.Date, as.Date.numeric\n",
      "\n"
     ]
    },
    {
     "name": "stdout",
     "output_type": "stream",
     "text": [
      "package 'sandwich' successfully unpacked and MD5 sums checked\n",
      "\n",
      "The downloaded binary packages are in\n",
      "\tC:\\Users\\abhisha.REDMOND\\AppData\\Local\\Temp\\RtmpMfJk8p\\downloaded_packages\n"
     ]
    },
    {
     "name": "stderr",
     "output_type": "stream",
     "text": [
      "Warning message:\n",
      "\"package 'sandwich' was built under R version 3.6.3\""
     ]
    },
    {
     "name": "stdout",
     "output_type": "stream",
     "text": [
      "package 'corrplot' successfully unpacked and MD5 sums checked\n",
      "\n",
      "The downloaded binary packages are in\n",
      "\tC:\\Users\\abhisha.REDMOND\\AppData\\Local\\Temp\\RtmpMfJk8p\\downloaded_packages\n"
     ]
    },
    {
     "name": "stderr",
     "output_type": "stream",
     "text": [
      "Warning message:\n",
      "\"package 'corrplot' was built under R version 3.6.3\"corrplot 0.84 loaded\n"
     ]
    },
    {
     "name": "stdout",
     "output_type": "stream",
     "text": [
      "package 'stargazer' successfully unpacked and MD5 sums checked\n",
      "\n",
      "The downloaded binary packages are in\n",
      "\tC:\\Users\\abhisha.REDMOND\\AppData\\Local\\Temp\\RtmpMfJk8p\\downloaded_packages\n"
     ]
    },
    {
     "name": "stderr",
     "output_type": "stream",
     "text": [
      "\n",
      "Please cite as: \n",
      "\n",
      " Hlavac, Marek (2018). stargazer: Well-Formatted Regression and Summary Statistics Tables.\n",
      " R package version 5.2.2. https://CRAN.R-project.org/package=stargazer \n",
      "\n"
     ]
    },
    {
     "name": "stdout",
     "output_type": "stream",
     "text": [
      "package 'stringr' successfully unpacked and MD5 sums checked\n",
      "\n",
      "The downloaded binary packages are in\n",
      "\tC:\\Users\\abhisha.REDMOND\\AppData\\Local\\Temp\\RtmpMfJk8p\\downloaded_packages\n"
     ]
    },
    {
     "name": "stderr",
     "output_type": "stream",
     "text": [
      "Warning message:\n",
      "\"package 'stringr' was built under R version 3.6.3\""
     ]
    }
   ],
   "source": [
    "install.packages(\"dplyr\")\n",
    "library(dplyr)\n",
    "install.packages(\"car\")\n",
    "library(car)\n",
    "install.packages(\"lmtest\")\n",
    "library(lmtest)\n",
    "install.packages(\"sandwich\")\n",
    "library(sandwich)\n",
    "install.packages(\"corrplot\")\n",
    "library(corrplot)\n",
    "install.packages(\"stargazer\")\n",
    "library(stargazer)\n",
    "install.packages(\"stringr\")\n",
    "library(stringr)\n",
    "# set standard height and width for images displayed\n",
    "options(repr.plot.width=5, repr.plot.height=5)"
   ]
  },
  {
   "cell_type": "code",
   "execution_count": 2,
   "metadata": {},
   "outputs": [
    {
     "data": {
      "text/html": [
       "<table>\n",
       "<caption>A data.frame: 6 × 9</caption>\n",
       "<thead>\n",
       "\t<tr><th></th><th scope=col>video_id</th><th scope=col>uploader</th><th scope=col>age</th><th scope=col>category</th><th scope=col>length</th><th scope=col>views</th><th scope=col>rate</th><th scope=col>ratings</th><th scope=col>comments</th></tr>\n",
       "\t<tr><th></th><th scope=col>&lt;fct&gt;</th><th scope=col>&lt;fct&gt;</th><th scope=col>&lt;int&gt;</th><th scope=col>&lt;fct&gt;</th><th scope=col>&lt;int&gt;</th><th scope=col>&lt;int&gt;</th><th scope=col>&lt;dbl&gt;</th><th scope=col>&lt;int&gt;</th><th scope=col>&lt;int&gt;</th></tr>\n",
       "</thead>\n",
       "<tbody>\n",
       "\t<tr><th scope=row>1</th><td>9QR1tni70fo</td><td>BHJJYP             </td><td>1131</td><td>Comedy       </td><td>126</td><td> 204</td><td>3.00</td><td> 2</td><td> 1</td></tr>\n",
       "\t<tr><th scope=row>2</th><td>l1DCSqAJ740</td><td>musicalrox         </td><td>1236</td><td>Music        </td><td>243</td><td>1652</td><td>3.91</td><td>11</td><td> 4</td></tr>\n",
       "\t<tr><th scope=row>3</th><td>ZES_o3XYGjM</td><td>tessaceleste       </td><td>1243</td><td>Entertainment</td><td>105</td><td> 898</td><td>4.48</td><td>81</td><td>36</td></tr>\n",
       "\t<tr><th scope=row>4</th><td>4I8b40cViDE</td><td>booloveswondergirls</td><td>1237</td><td>Entertainment</td><td>278</td><td> 928</td><td>5.00</td><td>24</td><td>13</td></tr>\n",
       "\t<tr><th scope=row>5</th><td>Elp6Bf0HJIM</td><td>Fizz101Productionz </td><td>1252</td><td>Comedy       </td><td> 26</td><td> 392</td><td>1.50</td><td> 8</td><td>17</td></tr>\n",
       "\t<tr><th scope=row>6</th><td>VPuKu7aU9GY</td><td>slytherin66        </td><td>1236</td><td>Entertainment</td><td>252</td><td> 318</td><td>5.00</td><td> 2</td><td> 3</td></tr>\n",
       "</tbody>\n",
       "</table>\n"
      ],
      "text/latex": [
       "A data.frame: 6 × 9\n",
       "\\begin{tabular}{r|lllllllll}\n",
       "  & video\\_id & uploader & age & category & length & views & rate & ratings & comments\\\\\n",
       "  & <fct> & <fct> & <int> & <fct> & <int> & <int> & <dbl> & <int> & <int>\\\\\n",
       "\\hline\n",
       "\t1 & 9QR1tni70fo & BHJJYP              & 1131 & Comedy        & 126 &  204 & 3.00 &  2 &  1\\\\\n",
       "\t2 & l1DCSqAJ740 & musicalrox          & 1236 & Music         & 243 & 1652 & 3.91 & 11 &  4\\\\\n",
       "\t3 & ZES\\_o3XYGjM & tessaceleste        & 1243 & Entertainment & 105 &  898 & 4.48 & 81 & 36\\\\\n",
       "\t4 & 4I8b40cViDE & booloveswondergirls & 1237 & Entertainment & 278 &  928 & 5.00 & 24 & 13\\\\\n",
       "\t5 & Elp6Bf0HJIM & Fizz101Productionz  & 1252 & Comedy        &  26 &  392 & 1.50 &  8 & 17\\\\\n",
       "\t6 & VPuKu7aU9GY & slytherin66         & 1236 & Entertainment & 252 &  318 & 5.00 &  2 &  3\\\\\n",
       "\\end{tabular}\n"
      ],
      "text/markdown": [
       "\n",
       "A data.frame: 6 × 9\n",
       "\n",
       "| <!--/--> | video_id &lt;fct&gt; | uploader &lt;fct&gt; | age &lt;int&gt; | category &lt;fct&gt; | length &lt;int&gt; | views &lt;int&gt; | rate &lt;dbl&gt; | ratings &lt;int&gt; | comments &lt;int&gt; |\n",
       "|---|---|---|---|---|---|---|---|---|---|\n",
       "| 1 | 9QR1tni70fo | BHJJYP              | 1131 | Comedy        | 126 |  204 | 3.00 |  2 |  1 |\n",
       "| 2 | l1DCSqAJ740 | musicalrox          | 1236 | Music         | 243 | 1652 | 3.91 | 11 |  4 |\n",
       "| 3 | ZES_o3XYGjM | tessaceleste        | 1243 | Entertainment | 105 |  898 | 4.48 | 81 | 36 |\n",
       "| 4 | 4I8b40cViDE | booloveswondergirls | 1237 | Entertainment | 278 |  928 | 5.00 | 24 | 13 |\n",
       "| 5 | Elp6Bf0HJIM | Fizz101Productionz  | 1252 | Comedy        |  26 |  392 | 1.50 |  8 | 17 |\n",
       "| 6 | VPuKu7aU9GY | slytherin66         | 1236 | Entertainment | 252 |  318 | 5.00 |  2 |  3 |\n",
       "\n"
      ],
      "text/plain": [
       "  video_id    uploader            age  category      length views rate ratings\n",
       "1 9QR1tni70fo BHJJYP              1131 Comedy        126     204  3.00  2     \n",
       "2 l1DCSqAJ740 musicalrox          1236 Music         243    1652  3.91 11     \n",
       "3 ZES_o3XYGjM tessaceleste        1243 Entertainment 105     898  4.48 81     \n",
       "4 4I8b40cViDE booloveswondergirls 1237 Entertainment 278     928  5.00 24     \n",
       "5 Elp6Bf0HJIM Fizz101Productionz  1252 Comedy         26     392  1.50  8     \n",
       "6 VPuKu7aU9GY slytherin66         1236 Entertainment 252     318  5.00  2     \n",
       "  comments\n",
       "1  1      \n",
       "2  4      \n",
       "3 36      \n",
       "4 13      \n",
       "5 17      \n",
       "6  3      "
      ]
     },
     "metadata": {},
     "output_type": "display_data"
    }
   ],
   "source": [
    "setwd(getwd())\n",
    "path = \"videos.txt\"\n",
    "data = read.table(path, sep = \"\\t\", header = TRUE)\n",
    "head(data)"
   ]
  },
  {
   "cell_type": "code",
   "execution_count": 3,
   "metadata": {},
   "outputs": [
    {
     "data": {
      "text/html": [
       "<style>\n",
       ".dl-inline {width: auto; margin:0; padding: 0}\n",
       ".dl-inline>dt, .dl-inline>dd {float: none; width: auto; display: inline-block}\n",
       ".dl-inline>dt::after {content: \":\\0020\"; padding-right: .5ex}\n",
       ".dl-inline>dt:not(:first-of-type) {padding-left: .5ex}\n",
       "</style><dl class=dl-inline><dt>video_id</dt><dd>'factor'</dd><dt>uploader</dt><dd>'factor'</dd><dt>age</dt><dd>'integer'</dd><dt>category</dt><dd>'factor'</dd><dt>length</dt><dd>'integer'</dd><dt>views</dt><dd>'integer'</dd><dt>rate</dt><dd>'numeric'</dd><dt>ratings</dt><dd>'integer'</dd><dt>comments</dt><dd>'integer'</dd></dl>\n"
      ],
      "text/latex": [
       "\\begin{description*}\n",
       "\\item[video\\textbackslash{}\\_id] 'factor'\n",
       "\\item[uploader] 'factor'\n",
       "\\item[age] 'integer'\n",
       "\\item[category] 'factor'\n",
       "\\item[length] 'integer'\n",
       "\\item[views] 'integer'\n",
       "\\item[rate] 'numeric'\n",
       "\\item[ratings] 'integer'\n",
       "\\item[comments] 'integer'\n",
       "\\end{description*}\n"
      ],
      "text/markdown": [
       "video_id\n",
       ":   'factor'uploader\n",
       ":   'factor'age\n",
       ":   'integer'category\n",
       ":   'factor'length\n",
       ":   'integer'views\n",
       ":   'integer'rate\n",
       ":   'numeric'ratings\n",
       ":   'integer'comments\n",
       ":   'integer'\n",
       "\n"
      ],
      "text/plain": [
       " video_id  uploader       age  category    length     views      rate   ratings \n",
       " \"factor\"  \"factor\" \"integer\"  \"factor\" \"integer\" \"integer\" \"numeric\" \"integer\" \n",
       " comments \n",
       "\"integer\" "
      ]
     },
     "metadata": {},
     "output_type": "display_data"
    }
   ],
   "source": [
    "sapply(data, class)"
   ]
  },
  {
   "cell_type": "code",
   "execution_count": 4,
   "metadata": {},
   "outputs": [
    {
     "data": {
      "text/plain": [
       "   Min. 1st Qu.  Median    Mean 3rd Qu.    Max.    NA's \n",
       "      3     348    1454    9374    6207 1807640       9 "
      ]
     },
     "metadata": {},
     "output_type": "display_data"
    }
   ],
   "source": [
    "summary(data$views)"
   ]
  },
  {
   "cell_type": "markdown",
   "metadata": {},
   "source": [
    "Seems like our dependent variable has NA values, we cannot continue with those rows. Hence, we remove them from the model"
   ]
  },
  {
   "cell_type": "code",
   "execution_count": 5,
   "metadata": {},
   "outputs": [
    {
     "data": {
      "text/html": [
       "<style>\n",
       ".list-inline {list-style: none; margin:0; padding: 0}\n",
       ".list-inline>li {display: inline-block}\n",
       ".list-inline>li:not(:last-child)::after {content: \"\\00b7\"; padding: 0 .5ex}\n",
       "</style>\n",
       "<ol class=list-inline><li>77</li><li>397</li><li>691</li><li>1129</li><li>1138</li><li>1226</li><li>1405</li><li>5246</li><li>8443</li></ol>\n"
      ],
      "text/latex": [
       "\\begin{enumerate*}\n",
       "\\item 77\n",
       "\\item 397\n",
       "\\item 691\n",
       "\\item 1129\n",
       "\\item 1138\n",
       "\\item 1226\n",
       "\\item 1405\n",
       "\\item 5246\n",
       "\\item 8443\n",
       "\\end{enumerate*}\n"
      ],
      "text/markdown": [
       "1. 77\n",
       "2. 397\n",
       "3. 691\n",
       "4. 1129\n",
       "5. 1138\n",
       "6. 1226\n",
       "7. 1405\n",
       "8. 5246\n",
       "9. 8443\n",
       "\n",
       "\n"
      ],
      "text/plain": [
       "[1]   77  397  691 1129 1138 1226 1405 5246 8443"
      ]
     },
     "metadata": {},
     "output_type": "display_data"
    }
   ],
   "source": [
    "unique(unlist (lapply (data, function (x) which (is.na (x)))))"
   ]
  },
  {
   "cell_type": "code",
   "execution_count": 6,
   "metadata": {},
   "outputs": [],
   "source": [
    "data = data[complete.cases(data), ]"
   ]
  },
  {
   "cell_type": "code",
   "execution_count": 7,
   "metadata": {},
   "outputs": [
    {
     "data": {
      "text/plain": [
       "   Min. 1st Qu.  Median    Mean 3rd Qu.    Max. \n",
       "      3     348    1454    9374    6207 1807640 "
      ]
     },
     "metadata": {},
     "output_type": "display_data"
    }
   ],
   "source": [
    "summary(data$views)"
   ]
  },
  {
   "cell_type": "code",
   "execution_count": 8,
   "metadata": {},
   "outputs": [
    {
     "data": {
      "text/html": [
       "<style>\n",
       ".list-inline {list-style: none; margin:0; padding: 0}\n",
       ".list-inline>li {display: inline-block}\n",
       ".list-inline>li:not(:last-child)::after {content: \"\\00b7\"; padding: 0 .5ex}\n",
       "</style>\n",
       "<ol class=list-inline><li>9480</li><li>9</li></ol>\n"
      ],
      "text/latex": [
       "\\begin{enumerate*}\n",
       "\\item 9480\n",
       "\\item 9\n",
       "\\end{enumerate*}\n"
      ],
      "text/markdown": [
       "1. 9480\n",
       "2. 9\n",
       "\n",
       "\n"
      ],
      "text/plain": [
       "[1] 9480    9"
      ]
     },
     "metadata": {},
     "output_type": "display_data"
    }
   ],
   "source": [
    "dim(data)"
   ]
  },
  {
   "cell_type": "code",
   "execution_count": 9,
   "metadata": {},
   "outputs": [
    {
     "data": {
      "text/html": [
       "1"
      ],
      "text/latex": [
       "1"
      ],
      "text/markdown": [
       "1"
      ],
      "text/plain": [
       "[1] 1"
      ]
     },
     "metadata": {},
     "output_type": "display_data"
    }
   ],
   "source": [
    "unlist(lapply (data$comments, function (x) which (x < 0)))"
   ]
  },
  {
   "cell_type": "markdown",
   "metadata": {},
   "source": [
    "There is 1 row with negative value for number of comments (row # 1968), which doesnt make sense. We will remove this row as well."
   ]
  },
  {
   "cell_type": "code",
   "execution_count": 10,
   "metadata": {},
   "outputs": [
    {
     "data": {
      "text/html": [
       "<table>\n",
       "<caption>A data.frame: 1 × 9</caption>\n",
       "<thead>\n",
       "\t<tr><th></th><th scope=col>video_id</th><th scope=col>uploader</th><th scope=col>age</th><th scope=col>category</th><th scope=col>length</th><th scope=col>views</th><th scope=col>rate</th><th scope=col>ratings</th><th scope=col>comments</th></tr>\n",
       "\t<tr><th></th><th scope=col>&lt;fct&gt;</th><th scope=col>&lt;fct&gt;</th><th scope=col>&lt;int&gt;</th><th scope=col>&lt;fct&gt;</th><th scope=col>&lt;int&gt;</th><th scope=col>&lt;int&gt;</th><th scope=col>&lt;dbl&gt;</th><th scope=col>&lt;int&gt;</th><th scope=col>&lt;int&gt;</th></tr>\n",
       "</thead>\n",
       "<tbody>\n",
       "\t<tr><th scope=row>1975</th><td>CX3b4_QuY24</td><td>0balance0</td><td>597</td><td>Howto &amp; Style</td><td>8</td><td>4463</td><td>3.67</td><td>3</td><td>-2</td></tr>\n",
       "</tbody>\n",
       "</table>\n"
      ],
      "text/latex": [
       "A data.frame: 1 × 9\n",
       "\\begin{tabular}{r|lllllllll}\n",
       "  & video\\_id & uploader & age & category & length & views & rate & ratings & comments\\\\\n",
       "  & <fct> & <fct> & <int> & <fct> & <int> & <int> & <dbl> & <int> & <int>\\\\\n",
       "\\hline\n",
       "\t1975 & CX3b4\\_QuY24 & 0balance0 & 597 & Howto \\& Style & 8 & 4463 & 3.67 & 3 & -2\\\\\n",
       "\\end{tabular}\n"
      ],
      "text/markdown": [
       "\n",
       "A data.frame: 1 × 9\n",
       "\n",
       "| <!--/--> | video_id &lt;fct&gt; | uploader &lt;fct&gt; | age &lt;int&gt; | category &lt;fct&gt; | length &lt;int&gt; | views &lt;int&gt; | rate &lt;dbl&gt; | ratings &lt;int&gt; | comments &lt;int&gt; |\n",
       "|---|---|---|---|---|---|---|---|---|---|\n",
       "| 1975 | CX3b4_QuY24 | 0balance0 | 597 | Howto &amp; Style | 8 | 4463 | 3.67 | 3 | -2 |\n",
       "\n"
      ],
      "text/plain": [
       "     video_id    uploader  age category      length views rate ratings comments\n",
       "1975 CX3b4_QuY24 0balance0 597 Howto & Style 8      4463  3.67 3       -2      "
      ]
     },
     "metadata": {},
     "output_type": "display_data"
    }
   ],
   "source": [
    "data[1968, ]"
   ]
  },
  {
   "cell_type": "code",
   "execution_count": 11,
   "metadata": {},
   "outputs": [],
   "source": [
    "data = data[-1968, ]"
   ]
  },
  {
   "cell_type": "code",
   "execution_count": 12,
   "metadata": {},
   "outputs": [
    {
     "data": {
      "text/html": [],
      "text/latex": [],
      "text/markdown": [],
      "text/plain": [
       "integer(0)"
      ]
     },
     "metadata": {},
     "output_type": "display_data"
    }
   ],
   "source": [
    "unlist(lapply (data$comments, function (x) which (x < 0)))"
   ]
  },
  {
   "cell_type": "code",
   "execution_count": 13,
   "metadata": {},
   "outputs": [
    {
     "data": {
      "text/html": [
       "<style>\n",
       ".list-inline {list-style: none; margin:0; padding: 0}\n",
       ".list-inline>li {display: inline-block}\n",
       ".list-inline>li:not(:last-child)::after {content: \"\\00b7\"; padding: 0 .5ex}\n",
       "</style>\n",
       "<ol class=list-inline><li>9479</li><li>9</li></ol>\n"
      ],
      "text/latex": [
       "\\begin{enumerate*}\n",
       "\\item 9479\n",
       "\\item 9\n",
       "\\end{enumerate*}\n"
      ],
      "text/markdown": [
       "1. 9479\n",
       "2. 9\n",
       "\n",
       "\n"
      ],
      "text/plain": [
       "[1] 9479    9"
      ]
     },
     "metadata": {},
     "output_type": "display_data"
    }
   ],
   "source": [
    "dim(data)"
   ]
  },
  {
   "cell_type": "code",
   "execution_count": 14,
   "metadata": {},
   "outputs": [
    {
     "data": {
      "text/plain": [
       "   Min. 1st Qu.  Median    Mean 3rd Qu.    Max. \n",
       "      3     348    1453    9375    6208 1807640 "
      ]
     },
     "metadata": {},
     "output_type": "display_data"
    },
    {
     "data": {
      "image/png": "[encoded data removed]",
      "text/plain": [
       "Plot with title \"Histogram of Views\""
      ]
     },
     "metadata": {},
     "output_type": "display_data"
    },
    {
     "data": {
      "image/png": "[encoded data removed]",
      "text/plain": [
       "Plot with title \"Histogram of Log10(Views)\""
      ]
     },
     "metadata": {},
     "output_type": "display_data"
    }
   ],
   "source": [
    "summary(data$views)\n",
    "hist(data$views, breaks=100, main = \"Histogram of Views\", xlab = \"Views\", col = \"lightblue\", border = \"black\")\n",
    "hist(log10(data$views), breaks=100, main = \"Histogram of Log10(Views)\", xlab = \"Log10(Views)\", col = \"lightblue\", border = \"black\")\n"
   ]
  },
  {
   "cell_type": "markdown",
   "metadata": {},
   "source": [
    "We see the \"range\" of views is very high. Hence, we need a function to squish the extreme values so we can visualize better. Hence, we plot log10(views)\n",
    "\n",
    "Here a value of 6 on the X axis means that the video has 1 Million views.\n",
    "\n",
    "Thus we will use log10(views) as our target variable"
   ]
  },
  {
   "cell_type": "code",
   "execution_count": 15,
   "metadata": {},
   "outputs": [],
   "source": [
    "data$log10_views = log10(data$views)"
   ]
  },
  {
   "cell_type": "code",
   "execution_count": 16,
   "metadata": {},
   "outputs": [
    {
     "data": {
      "text/plain": [
       "   Min. 1st Qu.  Median    Mean 3rd Qu.    Max. \n",
       "  0.000   3.400   4.670   3.746   5.000   5.000 "
      ]
     },
     "metadata": {},
     "output_type": "display_data"
    }
   ],
   "source": [
    "# ratings fall within expected 0 to 5 range\n",
    "summary(data$rate)"
   ]
  },
  {
   "cell_type": "code",
   "execution_count": 17,
   "metadata": {},
   "outputs": [
    {
     "data": {
      "image/png": "[encoded data removed]",
      "text/plain": [
       "Plot with title \"Histogram of Rate\""
      ]
     },
     "metadata": {},
     "output_type": "display_data"
    }
   ],
   "source": [
    "hist(data$rate, breaks=6, main = \"Histogram of Rate\", xlab = \"Rate\", col = \"lightblue\", border = \"black\")"
   ]
  },
  {
   "cell_type": "markdown",
   "metadata": {},
   "source": [
    "As expected, users either really hate the videos or really like the videos. Hence, we see a bimodal distribution"
   ]
  },
  {
   "cell_type": "code",
   "execution_count": 18,
   "metadata": {},
   "outputs": [
    {
     "data": {
      "text/plain": [
       "   Min. 1st Qu.  Median    Mean 3rd Qu.    Max. \n",
       "   0.00    1.00    5.00   20.56   15.00 3801.00 "
      ]
     },
     "metadata": {},
     "output_type": "display_data"
    },
    {
     "data": {
      "image/png": "[encoded data removed]",
      "text/plain": [
       "Plot with title \"Histogram of # Ratings\""
      ]
     },
     "metadata": {},
     "output_type": "display_data"
    },
    {
     "data": {
      "image/png": "[encoded data removed]",
      "text/plain": [
       "Plot with title \"Histogram of # Ratings\""
      ]
     },
     "metadata": {},
     "output_type": "display_data"
    }
   ],
   "source": [
    "summary(data$ratings)\n",
    "hist(data$ratings, breaks=100, main = \"Histogram of # Ratings\", xlab = \"# Ratings\", col = \"lightblue\", border = \"black\")\n",
    "hist(log10(data$ratings), breaks=10, main = \"Histogram of # Ratings\", xlab = \"# Ratings\", col = \"lightblue\", border = \"black\")"
   ]
  },
  {
   "cell_type": "markdown",
   "metadata": {},
   "source": [
    "As expected, there is a drop off in the number of ratings for videos. Most of the audience consumes videos passively, without giving ratings.\n",
    "\n",
    "There are very few videos for which over 1000 users have given ratings."
   ]
  },
  {
   "cell_type": "code",
   "execution_count": 19,
   "metadata": {},
   "outputs": [
    {
     "data": {
      "text/plain": [
       "    Min.  1st Qu.   Median     Mean  3rd Qu.     Max. \n",
       "    0.00     1.00     3.00    19.85    13.00 13211.00 "
      ]
     },
     "metadata": {},
     "output_type": "display_data"
    },
    {
     "data": {
      "image/png": "[encoded data removed]",
      "text/plain": [
       "Plot with title \"Histogram of # Comments\""
      ]
     },
     "metadata": {},
     "output_type": "display_data"
    },
    {
     "data": {
      "image/png": "[encoded data removed]",
      "text/plain": [
       "Plot with title \"Histogram of # Comments\""
      ]
     },
     "metadata": {},
     "output_type": "display_data"
    }
   ],
   "source": [
    "summary(data$comments)\n",
    "hist(data$comments, breaks=100, main = \"Histogram of # Comments\", xlab = \"# Comments\", col = \"lightblue\", border = \"black\")\n",
    "hist(log10(data$comments), breaks=10, main = \"Histogram of # Comments\", xlab = \"# Comments\", col = \"lightblue\", border = \"black\")"
   ]
  },
  {
   "cell_type": "markdown",
   "metadata": {},
   "source": [
    "The comments follow a very similar pattern to the ratings. Most audience doesnt give comments on videos."
   ]
  },
  {
   "cell_type": "code",
   "execution_count": 20,
   "metadata": {},
   "outputs": [
    {
     "data": {
      "text/html": [
       "<style>\n",
       ".list-inline {list-style: none; margin:0; padding: 0}\n",
       ".list-inline>li {display: inline-block}\n",
       ".list-inline>li:not(:last-child)::after {content: \"\\00b7\"; padding: 0 .5ex}\n",
       "</style>\n",
       "<ol class=list-inline><li>Comedy</li><li>Music</li><li>Entertainment</li><li>Howto &amp; Style</li><li>Travel &amp; Events</li><li>Education</li><li>People &amp; Blogs</li><li>News &amp; Politics</li><li>Sports</li><li>Film &amp; Animation</li><li>Gaming</li><li>Science &amp; Technology</li><li>Autos &amp; Vehicles</li><li>Pets &amp; Animals</li><li>Nonprofits &amp; Activism</li><li> UNA </li></ol>\n",
       "\n",
       "<details>\n",
       "\t<summary style=display:list-item;cursor:pointer>\n",
       "\t\t<strong>Levels</strong>:\n",
       "\t</summary>\n",
       "\t<style>\n",
       "\t.list-inline {list-style: none; margin:0; padding: 0}\n",
       "\t.list-inline>li {display: inline-block}\n",
       "\t.list-inline>li:not(:last-child)::after {content: \"\\00b7\"; padding: 0 .5ex}\n",
       "\t</style>\n",
       "\t<ol class=list-inline><li>''</li><li>' UNA '</li><li>'Autos &amp; Vehicles'</li><li>'Comedy'</li><li>'Education'</li><li>'Entertainment'</li><li>'Film &amp; Animation'</li><li>'Gaming'</li><li>'Howto &amp; Style'</li><li>'Music'</li><li>'News &amp; Politics'</li><li>'Nonprofits &amp; Activism'</li><li>'People &amp; Blogs'</li><li>'Pets &amp; Animals'</li><li>'Science &amp; Technology'</li><li>'Sports'</li><li>'Travel &amp; Events'</li></ol>\n",
       "</details>"
      ],
      "text/latex": [
       "\\begin{enumerate*}\n",
       "\\item Comedy\n",
       "\\item Music\n",
       "\\item Entertainment\n",
       "\\item Howto \\& Style\n",
       "\\item Travel \\& Events\n",
       "\\item Education\n",
       "\\item People \\& Blogs\n",
       "\\item News \\& Politics\n",
       "\\item Sports\n",
       "\\item Film \\& Animation\n",
       "\\item Gaming\n",
       "\\item Science \\& Technology\n",
       "\\item Autos \\& Vehicles\n",
       "\\item Pets \\& Animals\n",
       "\\item Nonprofits \\& Activism\n",
       "\\item  UNA \n",
       "\\end{enumerate*}\n",
       "\n",
       "\\emph{Levels}: \\begin{enumerate*}\n",
       "\\item ''\n",
       "\\item ' UNA '\n",
       "\\item 'Autos \\& Vehicles'\n",
       "\\item 'Comedy'\n",
       "\\item 'Education'\n",
       "\\item 'Entertainment'\n",
       "\\item 'Film \\& Animation'\n",
       "\\item 'Gaming'\n",
       "\\item 'Howto \\& Style'\n",
       "\\item 'Music'\n",
       "\\item 'News \\& Politics'\n",
       "\\item 'Nonprofits \\& Activism'\n",
       "\\item 'People \\& Blogs'\n",
       "\\item 'Pets \\& Animals'\n",
       "\\item 'Science \\& Technology'\n",
       "\\item 'Sports'\n",
       "\\item 'Travel \\& Events'\n",
       "\\end{enumerate*}\n"
      ],
      "text/markdown": [
       "1. Comedy\n",
       "2. Music\n",
       "3. Entertainment\n",
       "4. Howto &amp; Style\n",
       "5. Travel &amp; Events\n",
       "6. Education\n",
       "7. People &amp; Blogs\n",
       "8. News &amp; Politics\n",
       "9. Sports\n",
       "10. Film &amp; Animation\n",
       "11. Gaming\n",
       "12. Science &amp; Technology\n",
       "13. Autos &amp; Vehicles\n",
       "14. Pets &amp; Animals\n",
       "15. Nonprofits &amp; Activism\n",
       "16.  UNA \n",
       "\n",
       "\n",
       "\n",
       "**Levels**: 1. ''\n",
       "2. ' UNA '\n",
       "3. 'Autos &amp; Vehicles'\n",
       "4. 'Comedy'\n",
       "5. 'Education'\n",
       "6. 'Entertainment'\n",
       "7. 'Film &amp; Animation'\n",
       "8. 'Gaming'\n",
       "9. 'Howto &amp; Style'\n",
       "10. 'Music'\n",
       "11. 'News &amp; Politics'\n",
       "12. 'Nonprofits &amp; Activism'\n",
       "13. 'People &amp; Blogs'\n",
       "14. 'Pets &amp; Animals'\n",
       "15. 'Science &amp; Technology'\n",
       "16. 'Sports'\n",
       "17. 'Travel &amp; Events'\n",
       "\n",
       "\n"
      ],
      "text/plain": [
       " [1] Comedy                Music                 Entertainment        \n",
       " [4] Howto & Style         Travel & Events       Education            \n",
       " [7] People & Blogs        News & Politics       Sports               \n",
       "[10] Film & Animation      Gaming                Science & Technology \n",
       "[13] Autos & Vehicles      Pets & Animals        Nonprofits & Activism\n",
       "[16]  UNA                 \n",
       "17 Levels:   UNA  Autos & Vehicles Comedy Education ... Travel & Events"
      ]
     },
     "metadata": {},
     "output_type": "display_data"
    }
   ],
   "source": [
    "unique(data$category)"
   ]
  },
  {
   "cell_type": "markdown",
   "metadata": {},
   "source": [
    "**Intrinsically, rate, number of ratings and number of comments are variables that show some form of engagement and thus, could possibly determine quality of video.**\n",
    "\n",
    "Hence, one can make the argument for including these 3 variables in the model to predict number of views based on video quality.\n",
    "\n",
    "Video length and age of video shouldn't intrinsically determine video quality. Hence, we will exclude these from our model. There can be age old classics that are as popular as new viral videos. There could also be 1 hour long videos (say concerts) as popular as short videos.\n",
    "\n",
    "Category of video is an interesting property, in so far as determining which category of videos get the highest views / comments / engagement. However, it would be unfair to compare videos of the \"Music\" category, with say videos from the \"Comedy\" category. The right thing to do would be to conduct a category wise regression for video quality against number of views. Note that category is not \"ordinal\" - there is no inherent order between video categories, so we cannot assign number values to this variable.\n",
    "\n",
    "This regression by category would be something worth exploring (via a one hot encoded vectors for categories). The result of this would be multiple regression lines with \"jumps\" due to different intercepts for each category. For each row, only 1 category will be valid, so it will belong to 1 of the N category regression lines.\n",
    "\n",
    "Hence, **we will also include category as a one hot encoded variable in our model.** This will impact our degrees of freedom because we are introducing additional variables (16 categories) in our model, however, it doesn't affect our coefficients much (for OLS estimator t-test) because we have large number of rows!"
   ]
  },
  {
   "cell_type": "code",
   "execution_count": 21,
   "metadata": {},
   "outputs": [
    {
     "data": {
      "text/html": [
       "<table>\n",
       "<caption>A matrix: 6 × 6 of type dbl</caption>\n",
       "<tbody>\n",
       "\t<tr><td>2.309630</td><td>3.00</td><td> 2</td><td> 1</td><td>1131</td><td>126</td></tr>\n",
       "\t<tr><td>3.218010</td><td>3.91</td><td>11</td><td> 4</td><td>1236</td><td>243</td></tr>\n",
       "\t<tr><td>2.953276</td><td>4.48</td><td>81</td><td>36</td><td>1243</td><td>105</td></tr>\n",
       "\t<tr><td>2.967548</td><td>5.00</td><td>24</td><td>13</td><td>1237</td><td>278</td></tr>\n",
       "\t<tr><td>2.593286</td><td>1.50</td><td> 8</td><td>17</td><td>1252</td><td> 26</td></tr>\n",
       "\t<tr><td>2.502427</td><td>5.00</td><td> 2</td><td> 3</td><td>1236</td><td>252</td></tr>\n",
       "</tbody>\n",
       "</table>\n"
      ],
      "text/latex": [
       "A matrix: 6 × 6 of type dbl\n",
       "\\begin{tabular}{llllll}\n",
       "\t 2.309630 & 3.00 &  2 &  1 & 1131 & 126\\\\\n",
       "\t 3.218010 & 3.91 & 11 &  4 & 1236 & 243\\\\\n",
       "\t 2.953276 & 4.48 & 81 & 36 & 1243 & 105\\\\\n",
       "\t 2.967548 & 5.00 & 24 & 13 & 1237 & 278\\\\\n",
       "\t 2.593286 & 1.50 &  8 & 17 & 1252 &  26\\\\\n",
       "\t 2.502427 & 5.00 &  2 &  3 & 1236 & 252\\\\\n",
       "\\end{tabular}\n"
      ],
      "text/markdown": [
       "\n",
       "A matrix: 6 × 6 of type dbl\n",
       "\n",
       "| 2.309630 | 3.00 |  2 |  1 | 1131 | 126 |\n",
       "| 3.218010 | 3.91 | 11 |  4 | 1236 | 243 |\n",
       "| 2.953276 | 4.48 | 81 | 36 | 1243 | 105 |\n",
       "| 2.967548 | 5.00 | 24 | 13 | 1237 | 278 |\n",
       "| 2.593286 | 1.50 |  8 | 17 | 1252 |  26 |\n",
       "| 2.502427 | 5.00 |  2 |  3 | 1236 | 252 |\n",
       "\n"
      ],
      "text/plain": [
       "     [,1]     [,2] [,3] [,4] [,5] [,6]\n",
       "[1,] 2.309630 3.00  2    1   1131 126 \n",
       "[2,] 3.218010 3.91 11    4   1236 243 \n",
       "[3,] 2.953276 4.48 81   36   1243 105 \n",
       "[4,] 2.967548 5.00 24   13   1237 278 \n",
       "[5,] 2.593286 1.50  8   17   1252  26 \n",
       "[6,] 2.502427 5.00  2    3   1236 252 "
      ]
     },
     "metadata": {},
     "output_type": "display_data"
    },
    {
     "data": {
      "text/plain": [
       "$r\n",
       "       [,1]   [,2]   [,3]  [,4]  [,5]   [,6]\n",
       "[1,]  1.000 -0.180 -0.087 0.044 -0.48 -0.087\n",
       "[2,] -0.180  1.000  0.410 0.086  0.38  0.130\n",
       "[3,] -0.087  0.410  1.000 0.017  0.17  0.046\n",
       "[4,]  0.044  0.086  0.017 1.000  0.12  0.160\n",
       "[5,] -0.480  0.380  0.170 0.120  1.00  0.430\n",
       "[6,] -0.087  0.130  0.046 0.160  0.43  1.000\n",
       "\n",
       "$p\n",
       "        [,1]    [,2]    [,3]    [,4]    [,5]    [,6]\n",
       "[1,] 0.0e+00 1.1e-72 3.2e-17 1.7e-05 0.0e+00 2.9e-17\n",
       "[2,] 1.1e-72 0.0e+00 0.0e+00 4.1e-17 0.0e+00 1.7e-36\n",
       "[3,] 3.2e-17 0.0e+00 0.0e+00 9.8e-02 2.2e-63 8.3e-06\n",
       "[4,] 1.7e-05 4.1e-17 9.8e-02 0.0e+00 2.3e-33 2.9e-54\n",
       "[5,] 0.0e+00 0.0e+00 2.2e-63 2.3e-33 0.0e+00 0.0e+00\n",
       "[6,] 2.9e-17 1.7e-36 8.3e-06 2.9e-54 0.0e+00 0.0e+00\n",
       "\n",
       "$sym\n",
       "                \n",
       "[1,] 1          \n",
       "[2,]   1        \n",
       "[3,]   . 1      \n",
       "[4,]       1    \n",
       "[5,] . .     1  \n",
       "[6,]         . 1\n",
       "attr(,\"legend\")\n",
       "[1] 0 ' ' 0.3 '.' 0.6 ',' 0.8 '+' 0.9 '*' 0.95 'B' 1\n"
      ]
     },
     "metadata": {},
     "output_type": "display_data"
    },
    {
     "data": {
      "image/png": "[encoded data removed]",
      "text/plain": [
       "Plot with title \"\""
      ]
     },
     "metadata": {},
     "output_type": "display_data"
    }
   ],
   "source": [
    "cordata = cbind(log10(data$views), data$rate, data$ratings, data$comments, data$age, data$length)\n",
    "head(cordata)\n",
    "source(\"http://www.sthda.com/upload/rquery_cormat.r\")\n",
    "rquery.cormat(cordata, type=\"full\")"
   ]
  },
  {
   "cell_type": "markdown",
   "metadata": {},
   "source": [
    "From the correlation plot, we observe a few things:\n",
    "1. Medium positive correlation between views and rate\n",
    "2. Medium positive correlation between views and ratings\n",
    "3. Medium positive correlation between ratings and comments\n",
    "\n",
    "This shows that higher views (popular videos) are associated with higher average rates.\n",
    "\n",
    "Higher views (popular videos) are associated with more engagement (number of users leaving a rating).\n",
    "\n",
    "Higher the engagement (number of users leaving a rating), higher the number of comments left on the video. Its likely that someone who rates a video will also leave a comment to express their approval (or disapproval) of the video.\n",
    "\n",
    "We do see a negative correlation between views and age of the video, ie, older videos are viewed less.\n",
    "\n",
    "However, we still think its not appropriate to judge video quality by age."
   ]
  },
  {
   "cell_type": "code",
   "execution_count": 22,
   "metadata": {},
   "outputs": [],
   "source": [
    "for(unique_value in unique(data$category))\n",
    "{\n",
    "    catg = str_replace_all(unique_value, \" \", \"\")\n",
    "    catg = str_replace_all(catg, \"&\", \"_\")\n",
    "    data[paste(\"cat\", catg, sep = \"_\")] = ifelse(data$category == unique_value, 1, 0)\n",
    "}"
   ]
  },
  {
   "cell_type": "code",
   "execution_count": 23,
   "metadata": {},
   "outputs": [
    {
     "data": {
      "text/html": [
       "<style>\n",
       ".list-inline {list-style: none; margin:0; padding: 0}\n",
       ".list-inline>li {display: inline-block}\n",
       ".list-inline>li:not(:last-child)::after {content: \"\\00b7\"; padding: 0 .5ex}\n",
       "</style>\n",
       "<ol class=list-inline><li>9479</li><li>26</li></ol>\n"
      ],
      "text/latex": [
       "\\begin{enumerate*}\n",
       "\\item 9479\n",
       "\\item 26\n",
       "\\end{enumerate*}\n"
      ],
      "text/markdown": [
       "1. 9479\n",
       "2. 26\n",
       "\n",
       "\n"
      ],
      "text/plain": [
       "[1] 9479   26"
      ]
     },
     "metadata": {},
     "output_type": "display_data"
    }
   ],
   "source": [
    "dim(data)"
   ]
  },
  {
   "cell_type": "code",
   "execution_count": 24,
   "metadata": {},
   "outputs": [
    {
     "data": {
      "text/html": [
       "<style>\n",
       ".dl-inline {width: auto; margin:0; padding: 0}\n",
       ".dl-inline>dt, .dl-inline>dd {float: none; width: auto; display: inline-block}\n",
       ".dl-inline>dt::after {content: \":\\0020\"; padding-right: .5ex}\n",
       ".dl-inline>dt:not(:first-of-type) {padding-left: .5ex}\n",
       "</style><dl class=dl-inline><dt>video_id</dt><dd>'factor'</dd><dt>uploader</dt><dd>'factor'</dd><dt>age</dt><dd>'integer'</dd><dt>category</dt><dd>'factor'</dd><dt>length</dt><dd>'integer'</dd><dt>views</dt><dd>'integer'</dd><dt>rate</dt><dd>'numeric'</dd><dt>ratings</dt><dd>'integer'</dd><dt>comments</dt><dd>'integer'</dd><dt>log10_views</dt><dd>'numeric'</dd><dt>cat_Comedy</dt><dd>'numeric'</dd><dt>cat_Music</dt><dd>'numeric'</dd><dt>cat_Entertainment</dt><dd>'numeric'</dd><dt>cat_Howto_Style</dt><dd>'numeric'</dd><dt>cat_Travel_Events</dt><dd>'numeric'</dd><dt>cat_Education</dt><dd>'numeric'</dd><dt>cat_People_Blogs</dt><dd>'numeric'</dd><dt>cat_News_Politics</dt><dd>'numeric'</dd><dt>cat_Sports</dt><dd>'numeric'</dd><dt>cat_Film_Animation</dt><dd>'numeric'</dd><dt>cat_Gaming</dt><dd>'numeric'</dd><dt>cat_Science_Technology</dt><dd>'numeric'</dd><dt>cat_Autos_Vehicles</dt><dd>'numeric'</dd><dt>cat_Pets_Animals</dt><dd>'numeric'</dd><dt>cat_Nonprofits_Activism</dt><dd>'numeric'</dd><dt>cat_UNA</dt><dd>'numeric'</dd></dl>\n"
      ],
      "text/latex": [
       "\\begin{description*}\n",
       "\\item[video\\textbackslash{}\\_id] 'factor'\n",
       "\\item[uploader] 'factor'\n",
       "\\item[age] 'integer'\n",
       "\\item[category] 'factor'\n",
       "\\item[length] 'integer'\n",
       "\\item[views] 'integer'\n",
       "\\item[rate] 'numeric'\n",
       "\\item[ratings] 'integer'\n",
       "\\item[comments] 'integer'\n",
       "\\item[log10\\textbackslash{}\\_views] 'numeric'\n",
       "\\item[cat\\textbackslash{}\\_Comedy] 'numeric'\n",
       "\\item[cat\\textbackslash{}\\_Music] 'numeric'\n",
       "\\item[cat\\textbackslash{}\\_Entertainment] 'numeric'\n",
       "\\item[cat\\textbackslash{}\\_Howto\\textbackslash{}\\_Style] 'numeric'\n",
       "\\item[cat\\textbackslash{}\\_Travel\\textbackslash{}\\_Events] 'numeric'\n",
       "\\item[cat\\textbackslash{}\\_Education] 'numeric'\n",
       "\\item[cat\\textbackslash{}\\_People\\textbackslash{}\\_Blogs] 'numeric'\n",
       "\\item[cat\\textbackslash{}\\_News\\textbackslash{}\\_Politics] 'numeric'\n",
       "\\item[cat\\textbackslash{}\\_Sports] 'numeric'\n",
       "\\item[cat\\textbackslash{}\\_Film\\textbackslash{}\\_Animation] 'numeric'\n",
       "\\item[cat\\textbackslash{}\\_Gaming] 'numeric'\n",
       "\\item[cat\\textbackslash{}\\_Science\\textbackslash{}\\_Technology] 'numeric'\n",
       "\\item[cat\\textbackslash{}\\_Autos\\textbackslash{}\\_Vehicles] 'numeric'\n",
       "\\item[cat\\textbackslash{}\\_Pets\\textbackslash{}\\_Animals] 'numeric'\n",
       "\\item[cat\\textbackslash{}\\_Nonprofits\\textbackslash{}\\_Activism] 'numeric'\n",
       "\\item[cat\\textbackslash{}\\_UNA] 'numeric'\n",
       "\\end{description*}\n"
      ],
      "text/markdown": [
       "video_id\n",
       ":   'factor'uploader\n",
       ":   'factor'age\n",
       ":   'integer'category\n",
       ":   'factor'length\n",
       ":   'integer'views\n",
       ":   'integer'rate\n",
       ":   'numeric'ratings\n",
       ":   'integer'comments\n",
       ":   'integer'log10_views\n",
       ":   'numeric'cat_Comedy\n",
       ":   'numeric'cat_Music\n",
       ":   'numeric'cat_Entertainment\n",
       ":   'numeric'cat_Howto_Style\n",
       ":   'numeric'cat_Travel_Events\n",
       ":   'numeric'cat_Education\n",
       ":   'numeric'cat_People_Blogs\n",
       ":   'numeric'cat_News_Politics\n",
       ":   'numeric'cat_Sports\n",
       ":   'numeric'cat_Film_Animation\n",
       ":   'numeric'cat_Gaming\n",
       ":   'numeric'cat_Science_Technology\n",
       ":   'numeric'cat_Autos_Vehicles\n",
       ":   'numeric'cat_Pets_Animals\n",
       ":   'numeric'cat_Nonprofits_Activism\n",
       ":   'numeric'cat_UNA\n",
       ":   'numeric'\n",
       "\n"
      ],
      "text/plain": [
       "               video_id                uploader                     age \n",
       "               \"factor\"                \"factor\"               \"integer\" \n",
       "               category                  length                   views \n",
       "               \"factor\"               \"integer\"               \"integer\" \n",
       "                   rate                 ratings                comments \n",
       "              \"numeric\"               \"integer\"               \"integer\" \n",
       "            log10_views              cat_Comedy               cat_Music \n",
       "              \"numeric\"               \"numeric\"               \"numeric\" \n",
       "      cat_Entertainment         cat_Howto_Style       cat_Travel_Events \n",
       "              \"numeric\"               \"numeric\"               \"numeric\" \n",
       "          cat_Education        cat_People_Blogs       cat_News_Politics \n",
       "              \"numeric\"               \"numeric\"               \"numeric\" \n",
       "             cat_Sports      cat_Film_Animation              cat_Gaming \n",
       "              \"numeric\"               \"numeric\"               \"numeric\" \n",
       " cat_Science_Technology      cat_Autos_Vehicles        cat_Pets_Animals \n",
       "              \"numeric\"               \"numeric\"               \"numeric\" \n",
       "cat_Nonprofits_Activism                 cat_UNA \n",
       "              \"numeric\"               \"numeric\" "
      ]
     },
     "metadata": {},
     "output_type": "display_data"
    }
   ],
   "source": [
    "sapply(data, class)"
   ]
  },
  {
   "cell_type": "code",
   "execution_count": 25,
   "metadata": {},
   "outputs": [
    {
     "data": {
      "text/html": [
       "<table>\n",
       "<caption>A data.frame: 6 × 16</caption>\n",
       "<thead>\n",
       "\t<tr><th></th><th scope=col>cat_Comedy</th><th scope=col>cat_Music</th><th scope=col>cat_Entertainment</th><th scope=col>cat_Howto_Style</th><th scope=col>cat_Travel_Events</th><th scope=col>cat_Education</th><th scope=col>cat_People_Blogs</th><th scope=col>cat_News_Politics</th><th scope=col>cat_Sports</th><th scope=col>cat_Film_Animation</th><th scope=col>cat_Gaming</th><th scope=col>cat_Science_Technology</th><th scope=col>cat_Autos_Vehicles</th><th scope=col>cat_Pets_Animals</th><th scope=col>cat_Nonprofits_Activism</th><th scope=col>cat_UNA</th></tr>\n",
       "\t<tr><th></th><th scope=col>&lt;dbl&gt;</th><th scope=col>&lt;dbl&gt;</th><th scope=col>&lt;dbl&gt;</th><th scope=col>&lt;dbl&gt;</th><th scope=col>&lt;dbl&gt;</th><th scope=col>&lt;dbl&gt;</th><th scope=col>&lt;dbl&gt;</th><th scope=col>&lt;dbl&gt;</th><th scope=col>&lt;dbl&gt;</th><th scope=col>&lt;dbl&gt;</th><th scope=col>&lt;dbl&gt;</th><th scope=col>&lt;dbl&gt;</th><th scope=col>&lt;dbl&gt;</th><th scope=col>&lt;dbl&gt;</th><th scope=col>&lt;dbl&gt;</th><th scope=col>&lt;dbl&gt;</th></tr>\n",
       "</thead>\n",
       "<tbody>\n",
       "\t<tr><th scope=row>1</th><td>1</td><td>0</td><td>0</td><td>0</td><td>0</td><td>0</td><td>0</td><td>0</td><td>0</td><td>0</td><td>0</td><td>0</td><td>0</td><td>0</td><td>0</td><td>0</td></tr>\n",
       "\t<tr><th scope=row>2</th><td>0</td><td>1</td><td>0</td><td>0</td><td>0</td><td>0</td><td>0</td><td>0</td><td>0</td><td>0</td><td>0</td><td>0</td><td>0</td><td>0</td><td>0</td><td>0</td></tr>\n",
       "\t<tr><th scope=row>3</th><td>0</td><td>0</td><td>1</td><td>0</td><td>0</td><td>0</td><td>0</td><td>0</td><td>0</td><td>0</td><td>0</td><td>0</td><td>0</td><td>0</td><td>0</td><td>0</td></tr>\n",
       "\t<tr><th scope=row>4</th><td>0</td><td>0</td><td>1</td><td>0</td><td>0</td><td>0</td><td>0</td><td>0</td><td>0</td><td>0</td><td>0</td><td>0</td><td>0</td><td>0</td><td>0</td><td>0</td></tr>\n",
       "\t<tr><th scope=row>5</th><td>1</td><td>0</td><td>0</td><td>0</td><td>0</td><td>0</td><td>0</td><td>0</td><td>0</td><td>0</td><td>0</td><td>0</td><td>0</td><td>0</td><td>0</td><td>0</td></tr>\n",
       "\t<tr><th scope=row>6</th><td>0</td><td>0</td><td>1</td><td>0</td><td>0</td><td>0</td><td>0</td><td>0</td><td>0</td><td>0</td><td>0</td><td>0</td><td>0</td><td>0</td><td>0</td><td>0</td></tr>\n",
       "</tbody>\n",
       "</table>\n"
      ],
      "text/latex": [
       "A data.frame: 6 × 16\n",
       "\\begin{tabular}{r|llllllllllllllll}\n",
       "  & cat\\_Comedy & cat\\_Music & cat\\_Entertainment & cat\\_Howto\\_Style & cat\\_Travel\\_Events & cat\\_Education & cat\\_People\\_Blogs & cat\\_News\\_Politics & cat\\_Sports & cat\\_Film\\_Animation & cat\\_Gaming & cat\\_Science\\_Technology & cat\\_Autos\\_Vehicles & cat\\_Pets\\_Animals & cat\\_Nonprofits\\_Activism & cat\\_UNA\\\\\n",
       "  & <dbl> & <dbl> & <dbl> & <dbl> & <dbl> & <dbl> & <dbl> & <dbl> & <dbl> & <dbl> & <dbl> & <dbl> & <dbl> & <dbl> & <dbl> & <dbl>\\\\\n",
       "\\hline\n",
       "\t1 & 1 & 0 & 0 & 0 & 0 & 0 & 0 & 0 & 0 & 0 & 0 & 0 & 0 & 0 & 0 & 0\\\\\n",
       "\t2 & 0 & 1 & 0 & 0 & 0 & 0 & 0 & 0 & 0 & 0 & 0 & 0 & 0 & 0 & 0 & 0\\\\\n",
       "\t3 & 0 & 0 & 1 & 0 & 0 & 0 & 0 & 0 & 0 & 0 & 0 & 0 & 0 & 0 & 0 & 0\\\\\n",
       "\t4 & 0 & 0 & 1 & 0 & 0 & 0 & 0 & 0 & 0 & 0 & 0 & 0 & 0 & 0 & 0 & 0\\\\\n",
       "\t5 & 1 & 0 & 0 & 0 & 0 & 0 & 0 & 0 & 0 & 0 & 0 & 0 & 0 & 0 & 0 & 0\\\\\n",
       "\t6 & 0 & 0 & 1 & 0 & 0 & 0 & 0 & 0 & 0 & 0 & 0 & 0 & 0 & 0 & 0 & 0\\\\\n",
       "\\end{tabular}\n"
      ],
      "text/markdown": [
       "\n",
       "A data.frame: 6 × 16\n",
       "\n",
       "| <!--/--> | cat_Comedy &lt;dbl&gt; | cat_Music &lt;dbl&gt; | cat_Entertainment &lt;dbl&gt; | cat_Howto_Style &lt;dbl&gt; | cat_Travel_Events &lt;dbl&gt; | cat_Education &lt;dbl&gt; | cat_People_Blogs &lt;dbl&gt; | cat_News_Politics &lt;dbl&gt; | cat_Sports &lt;dbl&gt; | cat_Film_Animation &lt;dbl&gt; | cat_Gaming &lt;dbl&gt; | cat_Science_Technology &lt;dbl&gt; | cat_Autos_Vehicles &lt;dbl&gt; | cat_Pets_Animals &lt;dbl&gt; | cat_Nonprofits_Activism &lt;dbl&gt; | cat_UNA &lt;dbl&gt; |\n",
       "|---|---|---|---|---|---|---|---|---|---|---|---|---|---|---|---|---|\n",
       "| 1 | 1 | 0 | 0 | 0 | 0 | 0 | 0 | 0 | 0 | 0 | 0 | 0 | 0 | 0 | 0 | 0 |\n",
       "| 2 | 0 | 1 | 0 | 0 | 0 | 0 | 0 | 0 | 0 | 0 | 0 | 0 | 0 | 0 | 0 | 0 |\n",
       "| 3 | 0 | 0 | 1 | 0 | 0 | 0 | 0 | 0 | 0 | 0 | 0 | 0 | 0 | 0 | 0 | 0 |\n",
       "| 4 | 0 | 0 | 1 | 0 | 0 | 0 | 0 | 0 | 0 | 0 | 0 | 0 | 0 | 0 | 0 | 0 |\n",
       "| 5 | 1 | 0 | 0 | 0 | 0 | 0 | 0 | 0 | 0 | 0 | 0 | 0 | 0 | 0 | 0 | 0 |\n",
       "| 6 | 0 | 0 | 1 | 0 | 0 | 0 | 0 | 0 | 0 | 0 | 0 | 0 | 0 | 0 | 0 | 0 |\n",
       "\n"
      ],
      "text/plain": [
       "  cat_Comedy cat_Music cat_Entertainment cat_Howto_Style cat_Travel_Events\n",
       "1 1          0         0                 0               0                \n",
       "2 0          1         0                 0               0                \n",
       "3 0          0         1                 0               0                \n",
       "4 0          0         1                 0               0                \n",
       "5 1          0         0                 0               0                \n",
       "6 0          0         1                 0               0                \n",
       "  cat_Education cat_People_Blogs cat_News_Politics cat_Sports\n",
       "1 0             0                0                 0         \n",
       "2 0             0                0                 0         \n",
       "3 0             0                0                 0         \n",
       "4 0             0                0                 0         \n",
       "5 0             0                0                 0         \n",
       "6 0             0                0                 0         \n",
       "  cat_Film_Animation cat_Gaming cat_Science_Technology cat_Autos_Vehicles\n",
       "1 0                  0          0                      0                 \n",
       "2 0                  0          0                      0                 \n",
       "3 0                  0          0                      0                 \n",
       "4 0                  0          0                      0                 \n",
       "5 0                  0          0                      0                 \n",
       "6 0                  0          0                      0                 \n",
       "  cat_Pets_Animals cat_Nonprofits_Activism cat_UNA\n",
       "1 0                0                       0      \n",
       "2 0                0                       0      \n",
       "3 0                0                       0      \n",
       "4 0                0                       0      \n",
       "5 0                0                       0      \n",
       "6 0                0                       0      "
      ]
     },
     "metadata": {},
     "output_type": "display_data"
    }
   ],
   "source": [
    "head(data[, 11:26])"
   ]
  },
  {
   "cell_type": "markdown",
   "metadata": {},
   "source": [
    "## Using diagnostic plots and numerical tools, build a single model speciﬁcation for this task"
   ]
  },
  {
   "cell_type": "code",
   "execution_count": 26,
   "metadata": {},
   "outputs": [],
   "source": [
    "construct_model = function() {\n",
    "    \n",
    "model = lm(log10_views ~ rate + ratings + comments \n",
    " + cat_Comedy + cat_Music + cat_Entertainment + cat_Howto_Style + cat_Travel_Events\n",
    " + cat_Education + cat_People_Blogs\n",
    " + cat_News_Politics + cat_Sports + cat_Film_Animation\n",
    " + cat_Gaming + cat_Science_Technology + cat_Autos_Vehicles \n",
    " + cat_Pets_Animals + cat_Nonprofits_Activism + cat_UNA, data=data)    \n",
    "\n",
    "return (model)\n",
    "}\n",
    "\n",
    "model = construct_model()"
   ]
  },
  {
   "cell_type": "code",
   "execution_count": 27,
   "metadata": {},
   "outputs": [
    {
     "data": {
      "text/plain": [
       "     Min.   1st Qu.    Median      Mean   3rd Qu.      Max. \n",
       "-11.52032  -0.49013   0.02539   0.00000   0.52050   2.66666 "
      ]
     },
     "metadata": {},
     "output_type": "display_data"
    },
    {
     "data": {
      "text/plain": [
       "\n",
       "\tDurbin-Watson test\n",
       "\n",
       "data:  model\n",
       "DW = 1.2242, p-value = 0.6156\n",
       "alternative hypothesis: true autocorrelation is greater than 0\n"
      ]
     },
     "metadata": {},
     "output_type": "display_data"
    },
    {
     "data": {
      "text/plain": [
       "\n",
       "\tstudentized Breusch-Pagan test\n",
       "\n",
       "data:  m\n",
       "BP = 2999.8, df = 18, p-value < 2.2e-16\n"
      ]
     },
     "metadata": {},
     "output_type": "display_data"
    },
    {
     "data": {
      "image/png": "[encoded data removed]",
      "text/plain": [
       "Plot with title \"Histogram of residuals\""
      ]
     },
     "metadata": {},
     "output_type": "display_data"
    },
    {
     "data": {
      "image/png": "[encoded data removed]",
      "text/plain": [
       "Plot with title \"\""
      ]
     },
     "metadata": {},
     "output_type": "display_data"
    },
    {
     "data": {
      "image/png": "[encoded data removed]",
      "text/plain": [
       "Plot with title \"\""
      ]
     },
     "metadata": {},
     "output_type": "display_data"
    },
    {
     "data": {
      "image/png": "[encoded data removed]",
      "text/plain": [
       "Plot with title \"\""
      ]
     },
     "metadata": {},
     "output_type": "display_data"
    },
    {
     "data": {
      "image/png": "[encoded data removed]",
      "text/plain": [
       "Plot with title \"\""
      ]
     },
     "metadata": {},
     "output_type": "display_data"
    },
    {
     "data": {
      "image/png": "[encoded data removed]",
      "text/plain": [
       "Plot with title \"\""
      ]
     },
     "metadata": {},
     "output_type": "display_data"
    },
    {
     "data": {
      "image/png": "[encoded data removed]",
      "text/plain": [
       "Plot with title \"\""
      ]
     },
     "metadata": {},
     "output_type": "display_data"
    }
   ],
   "source": [
    "evaluate_model_shapiro = function(m) {\n",
    "    paste(\"Shapiro test on residuals - test for normality (MLR 6)\")\n",
    "    # null hypothesis is residuals are normally distributed\n",
    "    shapiro.test(m$residuals)\n",
    "}\n",
    "\n",
    "evaluate_model_bp = function(m) {\n",
    "    paste(\"Breusch Pagan test - test for heteroskedasticity (MLR 5)\")\n",
    "    # null hypothesis is homoskedasticity, alt is presence of heteroskedasticity\n",
    "    bptest(m)\n",
    "}\n",
    "\n",
    "\n",
    "evaluate_model_plots = function(m) {\n",
    "\n",
    "    paste(\"Plotting residuals - test for normality of errors (MLR 6)\")\n",
    "    hist(m$residuals, breaks=50, main = \"Histogram of residuals\")\n",
    "\n",
    "    paste(\"Diagnostic plots (MLR 4,5 - Residual vs fitted), (MLR6 - QQ Plot), (MLR5 - Std. Residuals), (Cooks Dist - Outliers test)\")\n",
    "    #par(mfrow=c(3,3))\n",
    "    plot(m, which=1:6, col = 'blue')\n",
    "    \n",
    "}\n",
    "\n",
    "summary(model$residuals)\n",
    "dwtest(model)\n",
    "# shapiro's test doesn't run for models with data more than 5k rows\n",
    "# evaluate_model_shapiro(model)\n",
    "evaluate_model_bp(model)\n",
    "evaluate_model_plots(model)"
   ]
  },
  {
   "cell_type": "markdown",
   "metadata": {},
   "source": [
    "We observe a few things about our model.\n",
    "\n",
    "1. Residuals are normally distributed (MLR 6 - QQ plot + histogram of residuals)\n",
    "2. Our residual vs fitted plot is heavily influenced by a few points, that is pulling the zero conditional mean line downward.\n",
    "3. We have a few clear outliers with significant cook's distance values\n",
    "4. We have heteroskedasticity as per the Breusch pagan test\n",
    "5. We have ensured there's no perfect multicollinearity as per our EDA analysis and dwtest\n",
    "\n",
    "Lets try and remove the outliers to re-assess our model"
   ]
  },
  {
   "cell_type": "code",
   "execution_count": 28,
   "metadata": {},
   "outputs": [
    {
     "data": {
      "text/html": [
       "<table>\n",
       "<caption>A data.frame: 1 × 26</caption>\n",
       "<thead>\n",
       "\t<tr><th></th><th scope=col>video_id</th><th scope=col>uploader</th><th scope=col>age</th><th scope=col>category</th><th scope=col>length</th><th scope=col>views</th><th scope=col>rate</th><th scope=col>ratings</th><th scope=col>comments</th><th scope=col>log10_views</th><th scope=col>...</th><th scope=col>cat_People_Blogs</th><th scope=col>cat_News_Politics</th><th scope=col>cat_Sports</th><th scope=col>cat_Film_Animation</th><th scope=col>cat_Gaming</th><th scope=col>cat_Science_Technology</th><th scope=col>cat_Autos_Vehicles</th><th scope=col>cat_Pets_Animals</th><th scope=col>cat_Nonprofits_Activism</th><th scope=col>cat_UNA</th></tr>\n",
       "\t<tr><th></th><th scope=col>&lt;fct&gt;</th><th scope=col>&lt;fct&gt;</th><th scope=col>&lt;int&gt;</th><th scope=col>&lt;fct&gt;</th><th scope=col>&lt;int&gt;</th><th scope=col>&lt;int&gt;</th><th scope=col>&lt;dbl&gt;</th><th scope=col>&lt;int&gt;</th><th scope=col>&lt;int&gt;</th><th scope=col>&lt;dbl&gt;</th><th scope=col>...</th><th scope=col>&lt;dbl&gt;</th><th scope=col>&lt;dbl&gt;</th><th scope=col>&lt;dbl&gt;</th><th scope=col>&lt;dbl&gt;</th><th scope=col>&lt;dbl&gt;</th><th scope=col>&lt;dbl&gt;</th><th scope=col>&lt;dbl&gt;</th><th scope=col>&lt;dbl&gt;</th><th scope=col>&lt;dbl&gt;</th><th scope=col>&lt;dbl&gt;</th></tr>\n",
       "</thead>\n",
       "<tbody>\n",
       "\t<tr><th scope=row>5067</th><td>q2lo5aQeDgw</td><td>hakan222</td><td>779</td><td>Comedy</td><td>98</td><td>1807640</td><td>4.79</td><td>3801</td><td>1943</td><td>6.257112</td><td>...</td><td>0</td><td>0</td><td>0</td><td>0</td><td>0</td><td>0</td><td>0</td><td>0</td><td>0</td><td>0</td></tr>\n",
       "</tbody>\n",
       "</table>\n"
      ],
      "text/latex": [
       "A data.frame: 1 × 26\n",
       "\\begin{tabular}{r|lllllllllllllllllllll}\n",
       "  & video\\_id & uploader & age & category & length & views & rate & ratings & comments & log10\\_views & ... & cat\\_People\\_Blogs & cat\\_News\\_Politics & cat\\_Sports & cat\\_Film\\_Animation & cat\\_Gaming & cat\\_Science\\_Technology & cat\\_Autos\\_Vehicles & cat\\_Pets\\_Animals & cat\\_Nonprofits\\_Activism & cat\\_UNA\\\\\n",
       "  & <fct> & <fct> & <int> & <fct> & <int> & <int> & <dbl> & <int> & <int> & <dbl> & ... & <dbl> & <dbl> & <dbl> & <dbl> & <dbl> & <dbl> & <dbl> & <dbl> & <dbl> & <dbl>\\\\\n",
       "\\hline\n",
       "\t5067 & q2lo5aQeDgw & hakan222 & 779 & Comedy & 98 & 1807640 & 4.79 & 3801 & 1943 & 6.257112 & ... & 0 & 0 & 0 & 0 & 0 & 0 & 0 & 0 & 0 & 0\\\\\n",
       "\\end{tabular}\n"
      ],
      "text/markdown": [
       "\n",
       "A data.frame: 1 × 26\n",
       "\n",
       "| <!--/--> | video_id &lt;fct&gt; | uploader &lt;fct&gt; | age &lt;int&gt; | category &lt;fct&gt; | length &lt;int&gt; | views &lt;int&gt; | rate &lt;dbl&gt; | ratings &lt;int&gt; | comments &lt;int&gt; | log10_views &lt;dbl&gt; | ... ... | cat_People_Blogs &lt;dbl&gt; | cat_News_Politics &lt;dbl&gt; | cat_Sports &lt;dbl&gt; | cat_Film_Animation &lt;dbl&gt; | cat_Gaming &lt;dbl&gt; | cat_Science_Technology &lt;dbl&gt; | cat_Autos_Vehicles &lt;dbl&gt; | cat_Pets_Animals &lt;dbl&gt; | cat_Nonprofits_Activism &lt;dbl&gt; | cat_UNA &lt;dbl&gt; |\n",
       "|---|---|---|---|---|---|---|---|---|---|---|---|---|---|---|---|---|---|---|---|---|---|\n",
       "| 5067 | q2lo5aQeDgw | hakan222 | 779 | Comedy | 98 | 1807640 | 4.79 | 3801 | 1943 | 6.257112 | ... | 0 | 0 | 0 | 0 | 0 | 0 | 0 | 0 | 0 | 0 |\n",
       "\n"
      ],
      "text/plain": [
       "     video_id    uploader age category length views   rate ratings comments\n",
       "5067 q2lo5aQeDgw hakan222 779 Comedy   98     1807640 4.79 3801    1943    \n",
       "     log10_views ... cat_People_Blogs cat_News_Politics cat_Sports\n",
       "5067 6.257112    ... 0                0                 0         \n",
       "     cat_Film_Animation cat_Gaming cat_Science_Technology cat_Autos_Vehicles\n",
       "5067 0                  0          0                      0                 \n",
       "     cat_Pets_Animals cat_Nonprofits_Activism cat_UNA\n",
       "5067 0                0                       0      "
      ]
     },
     "metadata": {},
     "output_type": "display_data"
    }
   ],
   "source": [
    "data[5059,]"
   ]
  },
  {
   "cell_type": "code",
   "execution_count": 29,
   "metadata": {},
   "outputs": [
    {
     "data": {
      "text/html": [
       "<table>\n",
       "<caption>A data.frame: 1 × 26</caption>\n",
       "<thead>\n",
       "\t<tr><th></th><th scope=col>video_id</th><th scope=col>uploader</th><th scope=col>age</th><th scope=col>category</th><th scope=col>length</th><th scope=col>views</th><th scope=col>rate</th><th scope=col>ratings</th><th scope=col>comments</th><th scope=col>log10_views</th><th scope=col>...</th><th scope=col>cat_People_Blogs</th><th scope=col>cat_News_Politics</th><th scope=col>cat_Sports</th><th scope=col>cat_Film_Animation</th><th scope=col>cat_Gaming</th><th scope=col>cat_Science_Technology</th><th scope=col>cat_Autos_Vehicles</th><th scope=col>cat_Pets_Animals</th><th scope=col>cat_Nonprofits_Activism</th><th scope=col>cat_UNA</th></tr>\n",
       "\t<tr><th></th><th scope=col>&lt;fct&gt;</th><th scope=col>&lt;fct&gt;</th><th scope=col>&lt;int&gt;</th><th scope=col>&lt;fct&gt;</th><th scope=col>&lt;int&gt;</th><th scope=col>&lt;int&gt;</th><th scope=col>&lt;dbl&gt;</th><th scope=col>&lt;int&gt;</th><th scope=col>&lt;int&gt;</th><th scope=col>&lt;dbl&gt;</th><th scope=col>...</th><th scope=col>&lt;dbl&gt;</th><th scope=col>&lt;dbl&gt;</th><th scope=col>&lt;dbl&gt;</th><th scope=col>&lt;dbl&gt;</th><th scope=col>&lt;dbl&gt;</th><th scope=col>&lt;dbl&gt;</th><th scope=col>&lt;dbl&gt;</th><th scope=col>&lt;dbl&gt;</th><th scope=col>&lt;dbl&gt;</th><th scope=col>&lt;dbl&gt;</th></tr>\n",
       "</thead>\n",
       "<tbody>\n",
       "\t<tr><th scope=row>7342</th><td>biH1VEgLwHA</td><td>Karcsi75</td><td>594</td><td>Music</td><td>120</td><td>188180</td><td>3.9</td><td>677</td><td>13211</td><td>5.274573</td><td>...</td><td>0</td><td>0</td><td>0</td><td>0</td><td>0</td><td>0</td><td>0</td><td>0</td><td>0</td><td>0</td></tr>\n",
       "</tbody>\n",
       "</table>\n"
      ],
      "text/latex": [
       "A data.frame: 1 × 26\n",
       "\\begin{tabular}{r|lllllllllllllllllllll}\n",
       "  & video\\_id & uploader & age & category & length & views & rate & ratings & comments & log10\\_views & ... & cat\\_People\\_Blogs & cat\\_News\\_Politics & cat\\_Sports & cat\\_Film\\_Animation & cat\\_Gaming & cat\\_Science\\_Technology & cat\\_Autos\\_Vehicles & cat\\_Pets\\_Animals & cat\\_Nonprofits\\_Activism & cat\\_UNA\\\\\n",
       "  & <fct> & <fct> & <int> & <fct> & <int> & <int> & <dbl> & <int> & <int> & <dbl> & ... & <dbl> & <dbl> & <dbl> & <dbl> & <dbl> & <dbl> & <dbl> & <dbl> & <dbl> & <dbl>\\\\\n",
       "\\hline\n",
       "\t7342 & biH1VEgLwHA & Karcsi75 & 594 & Music & 120 & 188180 & 3.9 & 677 & 13211 & 5.274573 & ... & 0 & 0 & 0 & 0 & 0 & 0 & 0 & 0 & 0 & 0\\\\\n",
       "\\end{tabular}\n"
      ],
      "text/markdown": [
       "\n",
       "A data.frame: 1 × 26\n",
       "\n",
       "| <!--/--> | video_id &lt;fct&gt; | uploader &lt;fct&gt; | age &lt;int&gt; | category &lt;fct&gt; | length &lt;int&gt; | views &lt;int&gt; | rate &lt;dbl&gt; | ratings &lt;int&gt; | comments &lt;int&gt; | log10_views &lt;dbl&gt; | ... ... | cat_People_Blogs &lt;dbl&gt; | cat_News_Politics &lt;dbl&gt; | cat_Sports &lt;dbl&gt; | cat_Film_Animation &lt;dbl&gt; | cat_Gaming &lt;dbl&gt; | cat_Science_Technology &lt;dbl&gt; | cat_Autos_Vehicles &lt;dbl&gt; | cat_Pets_Animals &lt;dbl&gt; | cat_Nonprofits_Activism &lt;dbl&gt; | cat_UNA &lt;dbl&gt; |\n",
       "|---|---|---|---|---|---|---|---|---|---|---|---|---|---|---|---|---|---|---|---|---|---|\n",
       "| 7342 | biH1VEgLwHA | Karcsi75 | 594 | Music | 120 | 188180 | 3.9 | 677 | 13211 | 5.274573 | ... | 0 | 0 | 0 | 0 | 0 | 0 | 0 | 0 | 0 | 0 |\n",
       "\n"
      ],
      "text/plain": [
       "     video_id    uploader age category length views  rate ratings comments\n",
       "7342 biH1VEgLwHA Karcsi75 594 Music    120    188180 3.9  677     13211   \n",
       "     log10_views ... cat_People_Blogs cat_News_Politics cat_Sports\n",
       "7342 5.274573    ... 0                0                 0         \n",
       "     cat_Film_Animation cat_Gaming cat_Science_Technology cat_Autos_Vehicles\n",
       "7342 0                  0          0                      0                 \n",
       "     cat_Pets_Animals cat_Nonprofits_Activism cat_UNA\n",
       "7342 0                0                       0      "
      ]
     },
     "metadata": {},
     "output_type": "display_data"
    }
   ],
   "source": [
    "data[7333,]"
   ]
  },
  {
   "cell_type": "code",
   "execution_count": 30,
   "metadata": {},
   "outputs": [],
   "source": [
    "# remove 1st outlier\n",
    "data = data[-5059,]"
   ]
  },
  {
   "cell_type": "code",
   "execution_count": 31,
   "metadata": {},
   "outputs": [
    {
     "data": {
      "text/html": [
       "<table>\n",
       "<caption>A data.frame: 1 × 26</caption>\n",
       "<thead>\n",
       "\t<tr><th></th><th scope=col>video_id</th><th scope=col>uploader</th><th scope=col>age</th><th scope=col>category</th><th scope=col>length</th><th scope=col>views</th><th scope=col>rate</th><th scope=col>ratings</th><th scope=col>comments</th><th scope=col>log10_views</th><th scope=col>...</th><th scope=col>cat_People_Blogs</th><th scope=col>cat_News_Politics</th><th scope=col>cat_Sports</th><th scope=col>cat_Film_Animation</th><th scope=col>cat_Gaming</th><th scope=col>cat_Science_Technology</th><th scope=col>cat_Autos_Vehicles</th><th scope=col>cat_Pets_Animals</th><th scope=col>cat_Nonprofits_Activism</th><th scope=col>cat_UNA</th></tr>\n",
       "\t<tr><th></th><th scope=col>&lt;fct&gt;</th><th scope=col>&lt;fct&gt;</th><th scope=col>&lt;int&gt;</th><th scope=col>&lt;fct&gt;</th><th scope=col>&lt;int&gt;</th><th scope=col>&lt;int&gt;</th><th scope=col>&lt;dbl&gt;</th><th scope=col>&lt;int&gt;</th><th scope=col>&lt;int&gt;</th><th scope=col>&lt;dbl&gt;</th><th scope=col>...</th><th scope=col>&lt;dbl&gt;</th><th scope=col>&lt;dbl&gt;</th><th scope=col>&lt;dbl&gt;</th><th scope=col>&lt;dbl&gt;</th><th scope=col>&lt;dbl&gt;</th><th scope=col>&lt;dbl&gt;</th><th scope=col>&lt;dbl&gt;</th><th scope=col>&lt;dbl&gt;</th><th scope=col>&lt;dbl&gt;</th><th scope=col>&lt;dbl&gt;</th></tr>\n",
       "</thead>\n",
       "<tbody>\n",
       "\t<tr><th scope=row>7342</th><td>biH1VEgLwHA</td><td>Karcsi75</td><td>594</td><td>Music</td><td>120</td><td>188180</td><td>3.9</td><td>677</td><td>13211</td><td>5.274573</td><td>...</td><td>0</td><td>0</td><td>0</td><td>0</td><td>0</td><td>0</td><td>0</td><td>0</td><td>0</td><td>0</td></tr>\n",
       "</tbody>\n",
       "</table>\n"
      ],
      "text/latex": [
       "A data.frame: 1 × 26\n",
       "\\begin{tabular}{r|lllllllllllllllllllll}\n",
       "  & video\\_id & uploader & age & category & length & views & rate & ratings & comments & log10\\_views & ... & cat\\_People\\_Blogs & cat\\_News\\_Politics & cat\\_Sports & cat\\_Film\\_Animation & cat\\_Gaming & cat\\_Science\\_Technology & cat\\_Autos\\_Vehicles & cat\\_Pets\\_Animals & cat\\_Nonprofits\\_Activism & cat\\_UNA\\\\\n",
       "  & <fct> & <fct> & <int> & <fct> & <int> & <int> & <dbl> & <int> & <int> & <dbl> & ... & <dbl> & <dbl> & <dbl> & <dbl> & <dbl> & <dbl> & <dbl> & <dbl> & <dbl> & <dbl>\\\\\n",
       "\\hline\n",
       "\t7342 & biH1VEgLwHA & Karcsi75 & 594 & Music & 120 & 188180 & 3.9 & 677 & 13211 & 5.274573 & ... & 0 & 0 & 0 & 0 & 0 & 0 & 0 & 0 & 0 & 0\\\\\n",
       "\\end{tabular}\n"
      ],
      "text/markdown": [
       "\n",
       "A data.frame: 1 × 26\n",
       "\n",
       "| <!--/--> | video_id &lt;fct&gt; | uploader &lt;fct&gt; | age &lt;int&gt; | category &lt;fct&gt; | length &lt;int&gt; | views &lt;int&gt; | rate &lt;dbl&gt; | ratings &lt;int&gt; | comments &lt;int&gt; | log10_views &lt;dbl&gt; | ... ... | cat_People_Blogs &lt;dbl&gt; | cat_News_Politics &lt;dbl&gt; | cat_Sports &lt;dbl&gt; | cat_Film_Animation &lt;dbl&gt; | cat_Gaming &lt;dbl&gt; | cat_Science_Technology &lt;dbl&gt; | cat_Autos_Vehicles &lt;dbl&gt; | cat_Pets_Animals &lt;dbl&gt; | cat_Nonprofits_Activism &lt;dbl&gt; | cat_UNA &lt;dbl&gt; |\n",
       "|---|---|---|---|---|---|---|---|---|---|---|---|---|---|---|---|---|---|---|---|---|---|\n",
       "| 7342 | biH1VEgLwHA | Karcsi75 | 594 | Music | 120 | 188180 | 3.9 | 677 | 13211 | 5.274573 | ... | 0 | 0 | 0 | 0 | 0 | 0 | 0 | 0 | 0 | 0 |\n",
       "\n"
      ],
      "text/plain": [
       "     video_id    uploader age category length views  rate ratings comments\n",
       "7342 biH1VEgLwHA Karcsi75 594 Music    120    188180 3.9  677     13211   \n",
       "     log10_views ... cat_People_Blogs cat_News_Politics cat_Sports\n",
       "7342 5.274573    ... 0                0                 0         \n",
       "     cat_Film_Animation cat_Gaming cat_Science_Technology cat_Autos_Vehicles\n",
       "7342 0                  0          0                      0                 \n",
       "     cat_Pets_Animals cat_Nonprofits_Activism cat_UNA\n",
       "7342 0                0                       0      "
      ]
     },
     "metadata": {},
     "output_type": "display_data"
    }
   ],
   "source": [
    "# note that because we removed 1 row, all rows have shifted by 1 in the negative direction\n",
    "# so the index 7333 now corresponds to index 7332\n",
    "# we can confirm by comparing the 2 rows (for 7333 and 7332)\n",
    "data[7332,]"
   ]
  },
  {
   "cell_type": "code",
   "execution_count": 32,
   "metadata": {},
   "outputs": [],
   "source": [
    "# remove 2nd outlier\n",
    "data = data[-7332,]"
   ]
  },
  {
   "cell_type": "code",
   "execution_count": 33,
   "metadata": {},
   "outputs": [
    {
     "data": {
      "text/plain": [
       "    Min.  1st Qu.   Median     Mean  3rd Qu.     Max. \n",
       "-5.22035 -0.48207  0.03302  0.00000  0.51357  2.66835 "
      ]
     },
     "metadata": {},
     "output_type": "display_data"
    },
    {
     "data": {
      "text/plain": [
       "\n",
       "\tstudentized Breusch-Pagan test\n",
       "\n",
       "data:  m\n",
       "BP = 1677.5, df = 18, p-value < 2.2e-16\n"
      ]
     },
     "metadata": {},
     "output_type": "display_data"
    },
    {
     "data": {
      "image/png": "[encoded data removed]",
      "text/plain": [
       "Plot with title \"Histogram of residuals\""
      ]
     },
     "metadata": {},
     "output_type": "display_data"
    },
    {
     "data": {
      "image/png": "[encoded data removed]",
      "text/plain": [
       "Plot with title \"\""
      ]
     },
     "metadata": {},
     "output_type": "display_data"
    },
    {
     "data": {
      "image/png": "[encoded data removed]",
      "text/plain": [
       "Plot with title \"\""
      ]
     },
     "metadata": {},
     "output_type": "display_data"
    },
    {
     "data": {
      "image/png": "[encoded data removed]",
      "text/plain": [
       "Plot with title \"\""
      ]
     },
     "metadata": {},
     "output_type": "display_data"
    },
    {
     "data": {
      "image/png": "[encoded data removed]",
      "text/plain": [
       "Plot with title \"\""
      ]
     },
     "metadata": {},
     "output_type": "display_data"
    },
    {
     "data": {
      "image/png": "[encoded data removed]",
      "text/plain": [
       "Plot with title \"\""
      ]
     },
     "metadata": {},
     "output_type": "display_data"
    },
    {
     "data": {
      "image/png": "[encoded data removed]",
      "text/plain": [
       "Plot with title \"\""
      ]
     },
     "metadata": {},
     "output_type": "display_data"
    }
   ],
   "source": [
    "# re-run model\n",
    "model = construct_model()\n",
    "\n",
    "# re-evaluate results\n",
    "# dwtest(model)\n",
    "summary(model$residuals)\n",
    "evaluate_model_bp(model)\n",
    "evaluate_model_plots(model)"
   ]
  },
  {
   "cell_type": "markdown",
   "metadata": {},
   "source": [
    "We observe now that we have gotten rid off our outlier rows, so the cooks distance for any row is no longer > 1.\n",
    "\n",
    "However, this unfortunately doesn't change much for our diagnostics plots.\n",
    "\n",
    "Normality of errors is still preserved (MLR 6). However, there is strong presence of heteroskedasticity (MLR 5 not satisfied). Zero conditional mean is also not satisfied (MLR 4).\n",
    "\n",
    "MLR 1-3 are satisfied (linear in parameters, IID (making an assumption), no perfect multicollinearity)\n",
    "\n",
    "**We can still deal with violation of MLR 5 by using White-Huber std errors.**"
   ]
  },
  {
   "cell_type": "markdown",
   "metadata": {},
   "source": [
    "## Explain your result in terms of statistical and practical signiﬁcance"
   ]
  },
  {
   "cell_type": "code",
   "execution_count": 34,
   "metadata": {},
   "outputs": [
    {
     "data": {
      "text/plain": [
       "\n",
       "t test of coefficients:\n",
       "\n",
       "                           Estimate  Std. Error t value  Pr(>|t|)    \n",
       "(Intercept)              3.06455994  0.14774265 20.7426 < 2.2e-16 ***\n",
       "rate                     0.17436267  0.00438558 39.7582 < 2.2e-16 ***\n",
       "ratings                  0.00479521  0.00053867  8.9020 < 2.2e-16 ***\n",
       "comments                 0.00043690  0.00028331  1.5422 0.1230694    \n",
       "cat_Comedy              -0.77739266  0.15025266 -5.1739 2.340e-07 ***\n",
       "cat_Music               -0.58182497  0.14761895 -3.9414 8.159e-05 ***\n",
       "cat_Entertainment       -0.58498109  0.14814333 -3.9488 7.913e-05 ***\n",
       "cat_Howto_Style         -0.93429279  0.15064107 -6.2021 5.804e-10 ***\n",
       "cat_Travel_Events       -0.53319548  0.15622845 -3.4129 0.0006454 ***\n",
       "cat_Education           -0.83150706  0.15855069 -5.2444 1.602e-07 ***\n",
       "cat_People_Blogs        -0.76309888  0.14990657 -5.0905 3.640e-07 ***\n",
       "cat_News_Politics       -0.82827010  0.15200448 -5.4490 5.193e-08 ***\n",
       "cat_Sports              -0.61330876  0.14951175 -4.1021 4.129e-05 ***\n",
       "cat_Film_Animation      -0.60802431  0.14857964 -4.0922 4.308e-05 ***\n",
       "cat_Gaming              -1.22698038  0.15882068 -7.7256 1.227e-14 ***\n",
       "cat_Science_Technology  -0.88303181  0.15310706 -5.7674 8.302e-09 ***\n",
       "cat_Autos_Vehicles      -0.66950421  0.16670834 -4.0160 5.965e-05 ***\n",
       "cat_Pets_Animals        -0.66609102  0.15392042 -4.3275 1.524e-05 ***\n",
       "cat_Nonprofits_Activism -0.97693106  0.17672385 -5.5280 3.325e-08 ***\n",
       "---\n",
       "Signif. codes:  0 '***' 0.001 '**' 0.01 '*' 0.05 '.' 0.1 ' ' 1\n"
      ]
     },
     "metadata": {},
     "output_type": "display_data"
    },
    {
     "data": {
      "text/plain": [
       "\n",
       "Call:\n",
       "lm(formula = log10_views ~ rate + ratings + comments + cat_Comedy + \n",
       "    cat_Music + cat_Entertainment + cat_Howto_Style + cat_Travel_Events + \n",
       "    cat_Education + cat_People_Blogs + cat_News_Politics + cat_Sports + \n",
       "    cat_Film_Animation + cat_Gaming + cat_Science_Technology + \n",
       "    cat_Autos_Vehicles + cat_Pets_Animals + cat_Nonprofits_Activism + \n",
       "    cat_UNA, data = data)\n",
       "\n",
       "Residuals:\n",
       "    Min      1Q  Median      3Q     Max \n",
       "-5.2203 -0.4821  0.0330  0.5136  2.6684 \n",
       "\n",
       "Coefficients: (1 not defined because of singularities)\n",
       "                          Estimate Std. Error t value Pr(>|t|)    \n",
       "(Intercept)              3.0645599  0.1188280  25.790  < 2e-16 ***\n",
       "rate                     0.1743627  0.0041478  42.038  < 2e-16 ***\n",
       "ratings                  0.0047952  0.0001573  30.480  < 2e-16 ***\n",
       "comments                 0.0004369  0.0001304   3.351 0.000808 ***\n",
       "cat_Comedy              -0.7773927  0.1209851  -6.426 1.38e-10 ***\n",
       "cat_Music               -0.5818250  0.1184022  -4.914 9.07e-07 ***\n",
       "cat_Entertainment       -0.5849811  0.1185821  -4.933 8.23e-07 ***\n",
       "cat_Howto_Style         -0.9342928  0.1225436  -7.624 2.69e-14 ***\n",
       "cat_Travel_Events       -0.5331955  0.1274840  -4.182 2.91e-05 ***\n",
       "cat_Education           -0.8315071  0.1316432  -6.316 2.80e-10 ***\n",
       "cat_People_Blogs        -0.7630989  0.1202665  -6.345 2.33e-10 ***\n",
       "cat_News_Politics       -0.8282701  0.1233125  -6.717 1.96e-11 ***\n",
       "cat_Sports              -0.6133088  0.1213592  -5.054 4.42e-07 ***\n",
       "cat_Film_Animation      -0.6080243  0.1201882  -5.059 4.30e-07 ***\n",
       "cat_Gaming              -1.2269804  0.1381045  -8.884  < 2e-16 ***\n",
       "cat_Science_Technology  -0.8830318  0.1267615  -6.966 3.48e-12 ***\n",
       "cat_Autos_Vehicles      -0.6695042  0.1373122  -4.876 1.10e-06 ***\n",
       "cat_Pets_Animals        -0.6660910  0.1258987  -5.291 1.25e-07 ***\n",
       "cat_Nonprofits_Activism -0.9769311  0.1710423  -5.712 1.15e-08 ***\n",
       "cat_UNA                         NA         NA      NA       NA    \n",
       "---\n",
       "Signif. codes:  0 '***' 0.001 '**' 0.01 '*' 0.05 '.' 0.1 ' ' 1\n",
       "\n",
       "Residual standard error: 0.7025 on 9458 degrees of freedom\n",
       "Multiple R-squared:  0.3457,\tAdjusted R-squared:  0.3445 \n",
       "F-statistic: 277.7 on 18 and 9458 DF,  p-value: < 2.2e-16\n"
      ]
     },
     "metadata": {},
     "output_type": "display_data"
    },
    {
     "data": {
      "text/html": [
       "20223.1998962914"
      ],
      "text/latex": [
       "20223.1998962914"
      ],
      "text/markdown": [
       "20223.1998962914"
      ],
      "text/plain": [
       "[1] 20223.2"
      ]
     },
     "metadata": {},
     "output_type": "display_data"
    },
    {
     "data": {
      "text/html": [
       "20366.3323580808"
      ],
      "text/latex": [
       "20366.3323580808"
      ],
      "text/markdown": [
       "20366.3323580808"
      ],
      "text/plain": [
       "[1] 20366.33"
      ]
     },
     "metadata": {},
     "output_type": "display_data"
    }
   ],
   "source": [
    "# Get heteroskedasticity robust std errors and coefficients\n",
    "coeftest(model, vcov = vcovHC)\n",
    "summary(model)\n",
    "AIC(model)\n",
    "BIC(model)"
   ]
  },
  {
   "cell_type": "markdown",
   "metadata": {},
   "source": [
    "Our performance for the model is not very satisfactory, with an adjusted R-Squared of 34% and very large AIC and BIC values.\n",
    "\n",
    "**Its important to call out that almost all variables appear statistically significant in the model. This can be misleading because we have a very large number of samples.** As a result, we are bound to have statistical significance given that our coefficient variations would decrease and the expected values of betaj_hat will be centered around the population parameters (betaj) - relying on asymptotics.\n",
    "\n",
    "The practical significance is as follows:\n",
    "1. **rate** - Average user ratings have a positive effect on views percentage (since target is log10 views) - 1 unit increase in average ratings is associated with a 17% increase in views.\n",
    "2. **ratings** - The number of users rating a video has a positive effect on views percentage. An additional user rating a video causes as 0.47% increase in views. This metric is significantly less than average ratings.\n",
    "3. **comments** - The number of comments are not significant in determining number of views. This intuitively makes sense because users dont come to see a video because of comments. Users see a video, and reading / writing comments are a side-effect (after thought) of seeing the video.\n",
    "4. **category** - The category has a negative effect in determining number of views. This result is a little harder to explain. The hypothesis was that some categories will attract more users than others (say \"Music\" and \"Comedy\" would attract higher number of users, than something niche like \"Nonprofits\") - but this doesnt seem to be the case."
   ]
  },
  {
   "cell_type": "markdown",
   "metadata": {},
   "source": [
    "## Identify 3 omitted variables and estimate whether they are biasing the eﬀect you measure towards zero or away from zero."
   ]
  },
  {
   "cell_type": "markdown",
   "metadata": {},
   "source": [
    "For the omitted variable bias, we need to consider our modified beta values:\n",
    "\n",
    "betaj_hat = betaj_pop + beta_omitted * delta\n",
    "\n",
    "where betaj_hat is off from the population betaj by a factor of beta_omitted * delta"
   ]
  },
  {
   "cell_type": "markdown",
   "metadata": {},
   "source": [
    "The 3 identified omitted variables are:\n",
    "1. streaming_resolution - the quality with which the video is streamed (240p vs 1080p) could severely impact how many times a video is watched.\n",
    "2. viral_score - a score from 0 to 100 to capture its trend ranking in the search algorithm. If a video shows up frequently in search results, it will be watched more.\n",
    "3. likes_ratio - the number of likes to dislikes ratio could also impact the views on a video.\n",
    "\n",
    "Say if we measure each of the above omitted variables against \"rate\" - average rate score (since this variable has the highest impact on views from our regression):\n",
    "\n",
    "**For streaming_resolution:**\n",
    "\n",
    "1. beta for streaming_resolution is positive (higher streaming quality videos would have (all else equal) a higher viewership than lower streaming quality videos)\n",
    "2. delta for streaming_resolution is positive (higher streaming quality videos would have (all else equal) a higher rating than lower streaming quality videos)\n",
    "\n",
    "Hence, in the case of streaming_resolution, the effect of omission leads overestimating the effect of overestimating the coefficient of \"rate\". If streaming_resolution existed in our model, the rate variable would have less of an effect on viewership, and the coefficient would be drawn toward 0.  \n",
    "\n",
    "\n",
    "**For viral_score:**\n",
    "\n",
    "1. beta for viral_score is positive (highly viral videos will have higher viewership)\n",
    "2. delta for viral_score is positive (highly viral videos would have (all else equal) a higher average rating)\n",
    "\n",
    "Hence, in the case of viral_score, the effect of omission leads overestimating the effect of overestimating the coefficient of \"rate\". If viral_score existed in our model, the rate variable would have less of an effect on viewership, and the coefficient would be drawn toward 0.\n",
    "\n",
    "**For likes_ratio:**\n",
    "\n",
    "1. beta for likes_ratio is positive (higher liked videos will show up 1st in the search result, resulting in higher viewership)\n",
    "2. delta for likes_ratio is positive (higher liked videos would have (all else equal) a higher average rating)\n",
    "\n",
    "Hence, in the case of likes_ratio, the effect of omission leads overestimating the effect of overestimating the coefficient of \"rate\". If likes_ratio existed in our model, the rate variable would have less of an effect on viewership, and the coefficient would be drawn toward 0."
   ]
  },
  {
   "cell_type": "code",
   "execution_count": null,
   "metadata": {},
   "outputs": [],
   "source": []
  }
 ],
 "metadata": {
  "kernelspec": {
   "display_name": "R",
   "language": "R",
   "name": "ir"
  },
  "language_info": {
   "codemirror_mode": "r",
   "file_extension": ".r",
   "mimetype": "text/x-r-source",
   "name": "R",
   "pygments_lexer": "r",
   "version": "3.6.1"
  }
 },
 "nbformat": 4,
 "nbformat_minor": 4
}
